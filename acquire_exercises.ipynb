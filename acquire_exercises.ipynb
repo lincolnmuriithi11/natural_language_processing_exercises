{
 "cells": [
  {
   "cell_type": "code",
   "execution_count": 1,
   "id": "782fd1c9",
   "metadata": {},
   "outputs": [],
   "source": [
    "import pandas as pd\n",
    "from requests import get\n",
    "from bs4 import BeautifulSoup\n",
    "import requests\n",
    "import os"
   ]
  },
  {
   "cell_type": "code",
   "execution_count": null,
   "id": "3be63011",
   "metadata": {},
   "outputs": [],
   "source": []
  },
  {
   "cell_type": "markdown",
   "id": "0ef83af7",
   "metadata": {},
   "source": [
    "Codeup Blog Articles\n",
    "\n",
    "Visit Codeup's Blog and record the urls for at least 5 distinct blog posts. For each post, you should scrape at least the post's title and content.\n",
    "\n",
    "Encapsulate your work in a function named get_blog_articles that will return a list of dictionaries, with each dictionary representing one article. The shape of each dictionary should look like this:"
   ]
  },
  {
   "cell_type": "code",
   "execution_count": 2,
   "id": "e67da1ff",
   "metadata": {},
   "outputs": [
    {
     "data": {
      "text/plain": [
       "{'title': 'the title of the article',\n",
       " 'content': 'the full text content of the article'}"
      ]
     },
     "execution_count": 2,
     "metadata": {},
     "output_type": "execute_result"
    }
   ],
   "source": [
    "{\n",
    "    'title': 'the title of the article',\n",
    "    'content': 'the full text content of the article'\n",
    "}\n"
   ]
  },
  {
   "cell_type": "code",
   "execution_count": 3,
   "id": "a8f8b274",
   "metadata": {},
   "outputs": [],
   "source": [
    "url = 'https://codeup.com/blog/'\n",
    "headers = {'User-Agent': 'Codeup Data Science'} # Some websites don't accept the pyhon-requests default user-agent\n",
    "response = requests.get(url, headers=headers)\n",
    "soup = BeautifulSoup(response.content,\"html.parser\")\n",
    "# urls = [a.attrs['href']for a in soup.select('a.more-link')]\n",
    "\n",
    "\n",
    "# url1 = 'https://codeup.com/featured/what-jobs-can-you-get-after-a-coding-bootcamp-part-2-cloud-administration/'\n",
    "# headers1 = {'User-Agent': 'What Jobs Can You Get After a Coding Bootcamp? Part 2: Cloud Administration'} # Some websites don't accept the pyhon-requests default user-agent\n",
    "# response1 = get(url, headers=headers)\n",
    "\n",
    "\n",
    "\n",
    "\n"
   ]
  },
  {
   "cell_type": "code",
   "execution_count": 4,
   "id": "284d45b9",
   "metadata": {},
   "outputs": [
    {
     "data": {
      "text/plain": [
       "[<a class=\"more-link\" href=\"https://codeup.com/workshops/in-person-workshop-learn-to-code-python-on-7-19/\">read more</a>,\n",
       " <a class=\"more-link\" href=\"https://codeup.com/workshops/dallas/free-javascript-workshop-at-codeup-dallas-on-6-28/\">read more</a>,\n",
       " <a class=\"more-link\" href=\"https://codeup.com/tips-for-prospective-students/is-our-cloud-administration-program-right-for-you/\">read more</a>,\n",
       " <a class=\"more-link\" href=\"https://codeup.com/workshops/pride-in-tech-panel/\">read more</a>,\n",
       " <a class=\"more-link\" href=\"https://codeup.com/codeup-news/inclusion-at-codeup-during-pride-month-and-always/\">read more</a>,\n",
       " <a class=\"more-link\" href=\"https://codeup.com/tips-for-prospective-students/mental-health-first-aid-training/\">read more</a>,\n",
       " <a class=\"more-link\" href=\"https://codeup.com/workshops/codeup-dallas-how-to-succeed-at-a-coding-bootcamp-on-june-9th/\">read more</a>,\n",
       " <a class=\"more-link\" href=\"https://codeup.com/featured/5-reasons-to-attend-our-new-cloud-administration-program/\">read more</a>,\n",
       " <a class=\"more-link\" href=\"https://codeup.com/workshops/learn-to-code-python-on-5-21/\">read more</a>,\n",
       " <a class=\"more-link\" href=\"https://codeup.com/dallas-newsletter/codeup-dallas-joins-career-day/\">read more</a>,\n",
       " <a class=\"more-link\" href=\"https://codeup.com/workshops/project-quest-info-session-may-24th/\">read more</a>,\n",
       " <a class=\"more-link\" href=\"https://codeup.com/workshops/from-bootcamp-to-bootcamp-a-military-appreciation-panel/\">read more</a>,\n",
       " <a class=\"more-link\" href=\"https://codeup.com/featured/our-acquisition-of-the-rackspace-cloud-academy-one-year-later/\">read more</a>,\n",
       " <a class=\"more-link\" href=\"https://codeup.com/workshops/virtual/learn-to-code-html-css-on-4-30/\">read more</a>,\n",
       " <a class=\"more-link\" href=\"https://codeup.com/workshops/virtual/learn-to-code-python-workshop-on-4-16/\">read more</a>]"
      ]
     },
     "execution_count": 4,
     "metadata": {},
     "output_type": "execute_result"
    }
   ],
   "source": [
    "soup.select(\".more-link\")"
   ]
  },
  {
   "cell_type": "code",
   "execution_count": 5,
   "id": "024f9ff5",
   "metadata": {},
   "outputs": [
    {
     "data": {
      "text/plain": [
       "'https://codeup.com/featured/what-jobs-can-you-get-after-a-coding-bootcamp-part-2-cloud-administration/'"
      ]
     },
     "execution_count": 5,
     "metadata": {},
     "output_type": "execute_result"
    }
   ],
   "source": [
    "soup.select(\"h2 a[href]\")[0][\"href\"]"
   ]
  },
  {
   "cell_type": "code",
   "execution_count": 6,
   "id": "5067654e",
   "metadata": {
    "scrolled": true
   },
   "outputs": [],
   "source": [
    "links = [a[\"href\"] for a in soup.select(\"h2 a[href]\")]\n"
   ]
  },
  {
   "cell_type": "code",
   "execution_count": 8,
   "id": "b159c25d",
   "metadata": {},
   "outputs": [
    {
     "ename": "AttributeError",
     "evalue": "'NoneType' object has no attribute 'text'",
     "output_type": "error",
     "traceback": [
      "\u001b[0;31m---------------------------------------------------------------------------\u001b[0m",
      "\u001b[0;31mAttributeError\u001b[0m                            Traceback (most recent call last)",
      "\u001b[0;32m/var/folders/qg/y1d1577d6_zdj2rfwsn6lwsh0000gn/T/ipykernel_20926/2351077236.py\u001b[0m in \u001b[0;36m<module>\u001b[0;34m\u001b[0m\n\u001b[1;32m     11\u001b[0m     \u001b[0murl_response\u001b[0m \u001b[0;34m=\u001b[0m \u001b[0mget\u001b[0m\u001b[0;34m(\u001b[0m\u001b[0murl\u001b[0m\u001b[0;34m,\u001b[0m\u001b[0mheaders\u001b[0m\u001b[0;34m=\u001b[0m \u001b[0mheaders\u001b[0m\u001b[0;34m)\u001b[0m\u001b[0;34m\u001b[0m\u001b[0;34m\u001b[0m\u001b[0m\n\u001b[1;32m     12\u001b[0m     \u001b[0msoup\u001b[0m\u001b[0;34m=\u001b[0m \u001b[0mBeautifulSoup\u001b[0m\u001b[0;34m(\u001b[0m\u001b[0mresponse\u001b[0m\u001b[0;34m.\u001b[0m\u001b[0mcontent\u001b[0m\u001b[0;34m,\u001b[0m \u001b[0;34m\"html.parser\"\u001b[0m\u001b[0;34m)\u001b[0m\u001b[0;34m\u001b[0m\u001b[0;34m\u001b[0m\u001b[0m\n\u001b[0;32m---> 13\u001b[0;31m     \u001b[0mtitle\u001b[0m \u001b[0;34m=\u001b[0m \u001b[0msoup\u001b[0m\u001b[0;34m.\u001b[0m\u001b[0mfind\u001b[0m\u001b[0;34m(\u001b[0m\u001b[0;34m'h1'\u001b[0m\u001b[0;34m,\u001b[0m \u001b[0mclass_\u001b[0m\u001b[0;34m=\u001b[0m\u001b[0;34m'entry-title'\u001b[0m\u001b[0;34m)\u001b[0m\u001b[0;34m.\u001b[0m\u001b[0mtext\u001b[0m\u001b[0;34m\u001b[0m\u001b[0;34m\u001b[0m\u001b[0m\n\u001b[0m\u001b[1;32m     14\u001b[0m     \u001b[0mcontent\u001b[0m \u001b[0;34m=\u001b[0m \u001b[0msoup\u001b[0m\u001b[0;34m.\u001b[0m\u001b[0mfind\u001b[0m\u001b[0;34m(\u001b[0m\u001b[0;34m'div'\u001b[0m\u001b[0;34m,\u001b[0m \u001b[0mclass_\u001b[0m\u001b[0;34m=\u001b[0m\u001b[0;34m'entry-content'\u001b[0m\u001b[0;34m)\u001b[0m\u001b[0;34m.\u001b[0m\u001b[0mtext\u001b[0m\u001b[0;34m.\u001b[0m\u001b[0mstrip\u001b[0m\u001b[0;34m(\u001b[0m\u001b[0;34m)\u001b[0m\u001b[0;34m\u001b[0m\u001b[0;34m\u001b[0m\u001b[0m\n\u001b[1;32m     15\u001b[0m \u001b[0;34m\u001b[0m\u001b[0m\n",
      "\u001b[0;31mAttributeError\u001b[0m: 'NoneType' object has no attribute 'text'"
     ]
    }
   ],
   "source": [
    "url = 'https://codeup.com/blog/'\n",
    "headers = {'User-Agent': 'Codeup Data Science'}\n",
    "response = get(url, headers=headers)\n",
    "\n",
    "soup = BeautifulSoup(response.content, 'html.parser')\n",
    "\n",
    "links = [link['href'] for link in soup.select('h2 a[href]')]\n",
    "\n",
    "articles = []\n",
    "for url in links:\n",
    "    url_response = get(url,headers= headers)\n",
    "    soup= BeautifulSoup(response.content, \"html.parser\")\n",
    "    title = soup.find('h1', class_='entry-title').text\n",
    "    content = soup.find('div', class_='entry-content').text.strip()\n",
    "    \n",
    "    article_dict = {\n",
    "        'title': title,\n",
    "        'content': content\n",
    "    }\n",
    "    \n",
    "    articles.append(article_dict)"
   ]
  },
  {
   "cell_type": "code",
   "execution_count": null,
   "id": "27a5c842",
   "metadata": {},
   "outputs": [],
   "source": []
  },
  {
   "cell_type": "code",
   "execution_count": null,
   "id": "63f5708b",
   "metadata": {},
   "outputs": [],
   "source": [
    "def get_blog_articles():\n",
    "    url = 'https://codeup.com/blog/'\n",
    "    headers = {'User-Agent': 'Codeup News & Articles'} # Some websites don't accept the pyhon-requests default user-agent\n",
    "    response = requests.get(url, headers=headers)\n",
    "    soup = BeautifulSoup(response.text)\n",
    "    urls = [a.attrs['href']for a in soup.select('a.more-link')]\n",
    "    return urls"
   ]
  },
  {
   "cell_type": "code",
   "execution_count": null,
   "id": "1bf30039",
   "metadata": {},
   "outputs": [],
   "source": [
    "get_blog_articles()\n"
   ]
  },
  {
   "cell_type": "code",
   "execution_count": null,
   "id": "eb7d486b",
   "metadata": {
    "scrolled": true
   },
   "outputs": [],
   "source": []
  },
  {
   "cell_type": "code",
   "execution_count": null,
   "id": "5f736cfc",
   "metadata": {},
   "outputs": [],
   "source": [
    "soup.text"
   ]
  },
  {
   "cell_type": "code",
   "execution_count": null,
   "id": "a18aa277",
   "metadata": {},
   "outputs": [],
   "source": [
    "# def \n",
    "# 'title': soup.select_one('h1.entry-title').text,\n",
    "# 'published': soup.select_one('.published').text,\n",
    "# 'content': soup.select_one('.entry-content').text.strip()\n"
   ]
  },
  {
   "cell_type": "code",
   "execution_count": null,
   "id": "4d6c8883",
   "metadata": {},
   "outputs": [],
   "source": [
    "def parse_blog_article(soup):\n",
    "    return {\n",
    "        'title': soup.select_one('h1.entry-title').text,\n",
    "        'published': soup.select_one('.published').text,\n",
    "        'content': soup.select_one('.entry-content').text.strip(),\n",
    "    }"
   ]
  },
  {
   "cell_type": "code",
   "execution_count": null,
   "id": "e0d0ef65",
   "metadata": {},
   "outputs": [],
   "source": [
    "url = 'https://codeup.com/workshops/in-person-workshop-learn-to-code-python-on-7-19/'\n",
    "headers = {'User-Agent': '#post-18698 > div:nth-child(1) > h1'} # Some websites don't accept the pyhon-requests default user-agent\n",
    "response = get(url, headers=headers)\n",
    "\n",
    "soup = BeautifulSoup(response.content, 'html.parser')"
   ]
  },
  {
   "cell_type": "code",
   "execution_count": null,
   "id": "00771a57",
   "metadata": {},
   "outputs": [],
   "source": [
    "def parse_blog_article(soup):\n",
    "    return {\n",
    "        'title': soup.select_one('h1.entry-title').text,\n",
    "        'published': soup.select_one('.published').text,\n",
    "        'content': soup.select_one('.entry-content').text.strip(),\n",
    "    }"
   ]
  },
  {
   "cell_type": "code",
   "execution_count": null,
   "id": "f1aca69d",
   "metadata": {},
   "outputs": [],
   "source": [
    "response = parse_blog_article(soup)\n",
    "response"
   ]
  },
  {
   "cell_type": "code",
   "execution_count": null,
   "id": "bee938ce",
   "metadata": {},
   "outputs": [],
   "source": [
    "\n",
    "\n",
    "\n"
   ]
  },
  {
   "cell_type": "code",
   "execution_count": null,
   "id": "1f150a9c",
   "metadata": {},
   "outputs": [],
   "source": [
    "url = 'https://inshorts.com/en/read/business'\n",
    "# headers = {'User-Agent': 'Codeup Data Science'} # Some websites don't accept the pyhon-requests default user-agent\n",
    "response = requests.get(url)\n",
    "soup = BeautifulSoup(response.content,\"html.parser\")"
   ]
  },
  {
   "cell_type": "code",
   "execution_count": null,
   "id": "82362c7b",
   "metadata": {
    "scrolled": true
   },
   "outputs": [],
   "source": [
    "soup.find_all(\"span\",itemprop = \"headline\")"
   ]
  },
  {
   "cell_type": "code",
   "execution_count": null,
   "id": "b4629973",
   "metadata": {},
   "outputs": [],
   "source": [
    "soup.find_all(\"div\", itemprop = \"articleBody\")"
   ]
  },
  {
   "cell_type": "code",
   "execution_count": null,
   "id": "4695818d",
   "metadata": {},
   "outputs": [],
   "source": [
    "# select all news items from li possible categories\n",
    "soup.select(\"li\")[1:]"
   ]
  },
  {
   "cell_type": "code",
   "execution_count": null,
   "id": "df6b40f0",
   "metadata": {},
   "outputs": [],
   "source": [
    "categories = [li.text.lower() for li in soup.select(\"li\")][1:]\n",
    "categories[0] = \"national\"\n",
    "categories"
   ]
  },
  {
   "cell_type": "code",
   "execution_count": null,
   "id": "7032da3a",
   "metadata": {},
   "outputs": [],
   "source": [
    "categories = [li.text.lower() for li in soup.select(\"li\")][1:]\n",
    "categories[0] = \"national\"\n",
    "\n",
    "inshorts = []\n",
    "\n",
    "for category in categories:\n",
    "    url = \"https://inshorts.com/en/read/\"+ category\n",
    "    response = get(url)\n",
    "    soup = BeautifulSoup(response.content, \"html.parser\")\n",
    "    titles =[span.text for span in soup.find_all(\"span\",itemprop = \"headline\")]\n",
    "    content = [div.text for div in soup.find_all(\"div\", itemprop = \"articleBody\")]   \n",
    "    \n",
    "    for i in range(len(titles)):\n",
    "             article= {\"title\" : titles[i],\n",
    "                       \"content\" :content[i],\n",
    "                       \"categoy\" : category}\n",
    "             inshorts.append(article)        "
   ]
  },
  {
   "cell_type": "code",
   "execution_count": null,
   "id": "9ef886f1",
   "metadata": {},
   "outputs": [],
   "source": [
    "df = pd.DataFrame(inshorts)"
   ]
  },
  {
   "cell_type": "code",
   "execution_count": null,
   "id": "db0cf946",
   "metadata": {},
   "outputs": [],
   "source": [
    "df.head()"
   ]
  },
  {
   "cell_type": "code",
   "execution_count": null,
   "id": "0a880155",
   "metadata": {},
   "outputs": [],
   "source": []
  },
  {
   "cell_type": "code",
   "execution_count": null,
   "id": "15ca8b61",
   "metadata": {},
   "outputs": [],
   "source": []
  }
 ],
 "metadata": {
  "hide_input": false,
  "kernelspec": {
   "display_name": "Python 3 (ipykernel)",
   "language": "python",
   "name": "python3"
  },
  "language_info": {
   "codemirror_mode": {
    "name": "ipython",
    "version": 3
   },
   "file_extension": ".py",
   "mimetype": "text/x-python",
   "name": "python",
   "nbconvert_exporter": "python",
   "pygments_lexer": "ipython3",
   "version": "3.9.7"
  }
 },
 "nbformat": 4,
 "nbformat_minor": 5
}
