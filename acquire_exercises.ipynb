{
 "cells": [
  {
   "cell_type": "code",
   "execution_count": 1,
   "id": "782fd1c9",
   "metadata": {},
   "outputs": [],
   "source": [
    "import pandas as pd\n",
    "from requests import get\n",
    "from bs4 import BeautifulSoup\n",
    "import requests\n",
    "import os"
   ]
  },
  {
   "cell_type": "code",
   "execution_count": null,
   "id": "3be63011",
   "metadata": {},
   "outputs": [],
   "source": []
  },
  {
   "cell_type": "markdown",
   "id": "0ef83af7",
   "metadata": {},
   "source": [
    "Codeup Blog Articles\n",
    "\n",
    "Visit Codeup's Blog and record the urls for at least 5 distinct blog posts. For each post, you should scrape at least the post's title and content.\n",
    "\n",
    "Encapsulate your work in a function named get_blog_articles that will return a list of dictionaries, with each dictionary representing one article. The shape of each dictionary should look like this:"
   ]
  },
  {
   "cell_type": "code",
   "execution_count": 2,
   "id": "e67da1ff",
   "metadata": {},
   "outputs": [
    {
     "data": {
      "text/plain": [
       "{'title': 'the title of the article',\n",
       " 'content': 'the full text content of the article'}"
      ]
     },
     "execution_count": 2,
     "metadata": {},
     "output_type": "execute_result"
    }
   ],
   "source": [
    "{\n",
    "    'title': 'the title of the article',\n",
    "    'content': 'the full text content of the article'\n",
    "}\n"
   ]
  },
  {
   "cell_type": "code",
   "execution_count": 3,
   "id": "a8f8b274",
   "metadata": {},
   "outputs": [],
   "source": [
    "url = 'https://codeup.com/blog/'\n",
    "headers = {'User-Agent': 'Codeup Data Science'} # Some websites don't accept the pyhon-requests default user-agent\n",
    "response = requests.get(url, headers=headers)\n",
    "soup = BeautifulSoup(response.content,\"html.parser\")\n",
    "# urls = [a.attrs['href']for a in soup.select('a.more-link')]\n",
    "\n",
    "\n",
    "# url1 = 'https://codeup.com/featured/what-jobs-can-you-get-after-a-coding-bootcamp-part-2-cloud-administration/'\n",
    "# headers1 = {'User-Agent': 'What Jobs Can You Get After a Coding Bootcamp? Part 2: Cloud Administration'} # Some websites don't accept the pyhon-requests default user-agent\n",
    "# response1 = get(url, headers=headers)\n",
    "\n",
    "\n",
    "\n",
    "\n"
   ]
  },
  {
   "cell_type": "code",
   "execution_count": 4,
   "id": "284d45b9",
   "metadata": {},
   "outputs": [
    {
     "data": {
      "text/plain": [
       "[<a class=\"more-link\" href=\"https://codeup.com/workshops/in-person-workshop-learn-to-code-python-on-7-19/\">read more</a>,\n",
       " <a class=\"more-link\" href=\"https://codeup.com/workshops/dallas/free-javascript-workshop-at-codeup-dallas-on-6-28/\">read more</a>,\n",
       " <a class=\"more-link\" href=\"https://codeup.com/tips-for-prospective-students/is-our-cloud-administration-program-right-for-you/\">read more</a>,\n",
       " <a class=\"more-link\" href=\"https://codeup.com/workshops/pride-in-tech-panel/\">read more</a>,\n",
       " <a class=\"more-link\" href=\"https://codeup.com/codeup-news/inclusion-at-codeup-during-pride-month-and-always/\">read more</a>,\n",
       " <a class=\"more-link\" href=\"https://codeup.com/tips-for-prospective-students/mental-health-first-aid-training/\">read more</a>,\n",
       " <a class=\"more-link\" href=\"https://codeup.com/workshops/codeup-dallas-how-to-succeed-at-a-coding-bootcamp-on-june-9th/\">read more</a>,\n",
       " <a class=\"more-link\" href=\"https://codeup.com/featured/5-reasons-to-attend-our-new-cloud-administration-program/\">read more</a>,\n",
       " <a class=\"more-link\" href=\"https://codeup.com/workshops/learn-to-code-python-on-5-21/\">read more</a>,\n",
       " <a class=\"more-link\" href=\"https://codeup.com/dallas-newsletter/codeup-dallas-joins-career-day/\">read more</a>,\n",
       " <a class=\"more-link\" href=\"https://codeup.com/workshops/project-quest-info-session-may-24th/\">read more</a>,\n",
       " <a class=\"more-link\" href=\"https://codeup.com/workshops/from-bootcamp-to-bootcamp-a-military-appreciation-panel/\">read more</a>,\n",
       " <a class=\"more-link\" href=\"https://codeup.com/featured/our-acquisition-of-the-rackspace-cloud-academy-one-year-later/\">read more</a>,\n",
       " <a class=\"more-link\" href=\"https://codeup.com/workshops/virtual/learn-to-code-html-css-on-4-30/\">read more</a>,\n",
       " <a class=\"more-link\" href=\"https://codeup.com/workshops/virtual/learn-to-code-python-workshop-on-4-16/\">read more</a>]"
      ]
     },
     "execution_count": 4,
     "metadata": {},
     "output_type": "execute_result"
    }
   ],
   "source": [
    "soup.select(\".more-link\")"
   ]
  },
  {
   "cell_type": "code",
   "execution_count": 5,
   "id": "024f9ff5",
   "metadata": {},
   "outputs": [
    {
     "data": {
      "text/plain": [
       "'https://codeup.com/featured/what-jobs-can-you-get-after-a-coding-bootcamp-part-2-cloud-administration/'"
      ]
     },
     "execution_count": 5,
     "metadata": {},
     "output_type": "execute_result"
    }
   ],
   "source": [
    "soup.select(\"h2 a[href]\")[0][\"href\"]"
   ]
  },
  {
   "cell_type": "code",
   "execution_count": 6,
   "id": "5067654e",
   "metadata": {
    "scrolled": true
   },
   "outputs": [],
   "source": [
    "links = [a[\"href\"] for a in soup.select(\"h2 a[href]\")]\n"
   ]
  },
  {
   "cell_type": "code",
   "execution_count": 7,
   "id": "b159c25d",
   "metadata": {},
   "outputs": [],
   "source": [
    "def get_blog_articles():\n",
    "    url = 'https://codeup.com/blog/'\n",
    "    headers = {'User-Agent': 'Codeup Data Science'}\n",
    "    response = get(url, headers=headers)\n",
    "\n",
    "    soup = BeautifulSoup(response.content, 'html.parser')\n",
    "\n",
    "    links = [link['href'] for link in soup.select('h2 a[href]')]\n",
    "\n",
    "    articles = []\n",
    "\n",
    "    for url in links:\n",
    "\n",
    "        url_response = get(url, headers=headers)\n",
    "        soup = BeautifulSoup(url_response.text)\n",
    "\n",
    "        title = soup.find('h1', class_='entry-title').text\n",
    "        content = soup.find('div', class_='entry-content').text.strip()\n",
    "\n",
    "        article_dict = {\n",
    "            'title': title,\n",
    "            'content': content\n",
    "        }\n",
    "\n",
    "        articles.append(article_dict)\n",
    "    return articles"
   ]
  },
  {
   "cell_type": "code",
   "execution_count": 10,
   "id": "27a5c842",
   "metadata": {
    "scrolled": false
   },
   "outputs": [],
   "source": [
    "blog_article_df = pd.DataFrame(get_blog_articles())\n"
   ]
  },
  {
   "cell_type": "code",
   "execution_count": 11,
   "id": "7851eeff",
   "metadata": {},
   "outputs": [
    {
     "data": {
      "text/html": [
       "<div>\n",
       "<style scoped>\n",
       "    .dataframe tbody tr th:only-of-type {\n",
       "        vertical-align: middle;\n",
       "    }\n",
       "\n",
       "    .dataframe tbody tr th {\n",
       "        vertical-align: top;\n",
       "    }\n",
       "\n",
       "    .dataframe thead th {\n",
       "        text-align: right;\n",
       "    }\n",
       "</style>\n",
       "<table border=\"1\" class=\"dataframe\">\n",
       "  <thead>\n",
       "    <tr style=\"text-align: right;\">\n",
       "      <th></th>\n",
       "      <th>title</th>\n",
       "      <th>content</th>\n",
       "    </tr>\n",
       "  </thead>\n",
       "  <tbody>\n",
       "    <tr>\n",
       "      <th>0</th>\n",
       "      <td>What Jobs Can You Get After a Coding Bootcamp?...</td>\n",
       "      <td>Have you been considering a career in Cloud Ad...</td>\n",
       "    </tr>\n",
       "    <tr>\n",
       "      <th>1</th>\n",
       "      <td>What Jobs Can You Get After a Coding Bootcamp?...</td>\n",
       "      <td>If you are interested in embarking on a career...</td>\n",
       "    </tr>\n",
       "    <tr>\n",
       "      <th>2</th>\n",
       "      <td>Is Our Cloud Administration Program Right for ...</td>\n",
       "      <td>Changing careers can be scary. The first thing...</td>\n",
       "    </tr>\n",
       "    <tr>\n",
       "      <th>3</th>\n",
       "      <td>5 Reasons To Attend Our New Cloud Administrati...</td>\n",
       "      <td>Come Work In The Cloud\\nWhen your Monday rolls...</td>\n",
       "    </tr>\n",
       "    <tr>\n",
       "      <th>4</th>\n",
       "      <td>What Jobs Can You Get After a Coding Bootcamp?...</td>\n",
       "      <td>Have you been considering a career in Cloud Ad...</td>\n",
       "    </tr>\n",
       "    <tr>\n",
       "      <th>5</th>\n",
       "      <td>What Jobs Can You Get After a Coding Bootcamp?...</td>\n",
       "      <td>If you are interested in embarking on a career...</td>\n",
       "    </tr>\n",
       "    <tr>\n",
       "      <th>6</th>\n",
       "      <td>In-Person Workshop: Learn to Code – JavaScript...</td>\n",
       "      <td>Join us for our live in-person JavaScript cras...</td>\n",
       "    </tr>\n",
       "    <tr>\n",
       "      <th>7</th>\n",
       "      <td>In-Person Workshop: Learn to Code – Python on ...</td>\n",
       "      <td>According to LinkedIn, the “#1 Most Promising ...</td>\n",
       "    </tr>\n",
       "    <tr>\n",
       "      <th>8</th>\n",
       "      <td>Free JavaScript Workshop at Codeup Dallas on 6/28</td>\n",
       "      <td>Event Info: \\nLocation – Codeup Dallas\\nTime –...</td>\n",
       "    </tr>\n",
       "    <tr>\n",
       "      <th>9</th>\n",
       "      <td>Is Our Cloud Administration Program Right for ...</td>\n",
       "      <td>Changing careers can be scary. The first thing...</td>\n",
       "    </tr>\n",
       "    <tr>\n",
       "      <th>10</th>\n",
       "      <td>PRIDE in Tech Panel</td>\n",
       "      <td>In celebration of PRIDE month, join our Codeup...</td>\n",
       "    </tr>\n",
       "    <tr>\n",
       "      <th>11</th>\n",
       "      <td>Inclusion at Codeup During Pride Month (and Al...</td>\n",
       "      <td>Happy Pride Month! Pride Month is a dedicated ...</td>\n",
       "    </tr>\n",
       "    <tr>\n",
       "      <th>12</th>\n",
       "      <td>Mental Health First Aid Training</td>\n",
       "      <td>As a student of Codeup, going through a massiv...</td>\n",
       "    </tr>\n",
       "    <tr>\n",
       "      <th>13</th>\n",
       "      <td>Codeup Dallas: How to Succeed at a Coding Boot...</td>\n",
       "      <td>This event is the perfect opportunity for peop...</td>\n",
       "    </tr>\n",
       "    <tr>\n",
       "      <th>14</th>\n",
       "      <td>5 Reasons To Attend Our New Cloud Administrati...</td>\n",
       "      <td>Come Work In The Cloud\\nWhen your Monday rolls...</td>\n",
       "    </tr>\n",
       "    <tr>\n",
       "      <th>15</th>\n",
       "      <td>Learn to Code: Python on 5/21</td>\n",
       "      <td>According to LinkedIn, the “#1 Most Promising ...</td>\n",
       "    </tr>\n",
       "    <tr>\n",
       "      <th>16</th>\n",
       "      <td>Codeup Dallas Joins Career Day</td>\n",
       "      <td>Last week our Codeup Dallas team participated ...</td>\n",
       "    </tr>\n",
       "    <tr>\n",
       "      <th>17</th>\n",
       "      <td>Project Quest Info Session: IT Jumpstart on Ma...</td>\n",
       "      <td>Join our grant partner Project Quest as they d...</td>\n",
       "    </tr>\n",
       "    <tr>\n",
       "      <th>18</th>\n",
       "      <td>From Bootcamp to Bootcamp | A Military Appreci...</td>\n",
       "      <td>In honor of Military Appreciation Month, join ...</td>\n",
       "    </tr>\n",
       "    <tr>\n",
       "      <th>19</th>\n",
       "      <td>Our Acquisition of the Rackspace Cloud Academy...</td>\n",
       "      <td>Just about a year ago on April 16th, 2021 we a...</td>\n",
       "    </tr>\n",
       "    <tr>\n",
       "      <th>20</th>\n",
       "      <td>Learn to Code: HTML &amp; CSS on 4/30</td>\n",
       "      <td>HTML &amp; CSS are the design building blocks of a...</td>\n",
       "    </tr>\n",
       "    <tr>\n",
       "      <th>21</th>\n",
       "      <td>Learn to Code: Python Workshop on 4/23</td>\n",
       "      <td>According to LinkedIn, the “#1 Most Promising ...</td>\n",
       "    </tr>\n",
       "  </tbody>\n",
       "</table>\n",
       "</div>"
      ],
      "text/plain": [
       "                                                title  \\\n",
       "0   What Jobs Can You Get After a Coding Bootcamp?...   \n",
       "1   What Jobs Can You Get After a Coding Bootcamp?...   \n",
       "2   Is Our Cloud Administration Program Right for ...   \n",
       "3   5 Reasons To Attend Our New Cloud Administrati...   \n",
       "4   What Jobs Can You Get After a Coding Bootcamp?...   \n",
       "5   What Jobs Can You Get After a Coding Bootcamp?...   \n",
       "6   In-Person Workshop: Learn to Code – JavaScript...   \n",
       "7   In-Person Workshop: Learn to Code – Python on ...   \n",
       "8   Free JavaScript Workshop at Codeup Dallas on 6/28   \n",
       "9   Is Our Cloud Administration Program Right for ...   \n",
       "10                                PRIDE in Tech Panel   \n",
       "11  Inclusion at Codeup During Pride Month (and Al...   \n",
       "12                   Mental Health First Aid Training   \n",
       "13  Codeup Dallas: How to Succeed at a Coding Boot...   \n",
       "14  5 Reasons To Attend Our New Cloud Administrati...   \n",
       "15                      Learn to Code: Python on 5/21   \n",
       "16                     Codeup Dallas Joins Career Day   \n",
       "17  Project Quest Info Session: IT Jumpstart on Ma...   \n",
       "18  From Bootcamp to Bootcamp | A Military Appreci...   \n",
       "19  Our Acquisition of the Rackspace Cloud Academy...   \n",
       "20                  Learn to Code: HTML & CSS on 4/30   \n",
       "21             Learn to Code: Python Workshop on 4/23   \n",
       "\n",
       "                                              content  \n",
       "0   Have you been considering a career in Cloud Ad...  \n",
       "1   If you are interested in embarking on a career...  \n",
       "2   Changing careers can be scary. The first thing...  \n",
       "3   Come Work In The Cloud\\nWhen your Monday rolls...  \n",
       "4   Have you been considering a career in Cloud Ad...  \n",
       "5   If you are interested in embarking on a career...  \n",
       "6   Join us for our live in-person JavaScript cras...  \n",
       "7   According to LinkedIn, the “#1 Most Promising ...  \n",
       "8   Event Info: \\nLocation – Codeup Dallas\\nTime –...  \n",
       "9   Changing careers can be scary. The first thing...  \n",
       "10  In celebration of PRIDE month, join our Codeup...  \n",
       "11  Happy Pride Month! Pride Month is a dedicated ...  \n",
       "12  As a student of Codeup, going through a massiv...  \n",
       "13  This event is the perfect opportunity for peop...  \n",
       "14  Come Work In The Cloud\\nWhen your Monday rolls...  \n",
       "15  According to LinkedIn, the “#1 Most Promising ...  \n",
       "16  Last week our Codeup Dallas team participated ...  \n",
       "17  Join our grant partner Project Quest as they d...  \n",
       "18  In honor of Military Appreciation Month, join ...  \n",
       "19  Just about a year ago on April 16th, 2021 we a...  \n",
       "20  HTML & CSS are the design building blocks of a...  \n",
       "21  According to LinkedIn, the “#1 Most Promising ...  "
      ]
     },
     "execution_count": 11,
     "metadata": {},
     "output_type": "execute_result"
    }
   ],
   "source": [
    "blog_article_df\n"
   ]
  },
  {
   "cell_type": "code",
   "execution_count": 12,
   "id": "1212daab",
   "metadata": {},
   "outputs": [],
   "source": [
    "blog_article_df.to_csv(\"blog_article.csv\", index = False)"
   ]
  },
  {
   "cell_type": "code",
   "execution_count": 13,
   "id": "63f5708b",
   "metadata": {},
   "outputs": [],
   "source": [
    "###this also works\n",
    "# def get_blog_articles():\n",
    "#     url = 'https://codeup.com/blog/'\n",
    "#     headers = {'User-Agent': 'Codeup News & Articles'} # Some websites don't accept the pyhon-requests default user-agent\n",
    "#     response = requests.get(url, headers=headers)\n",
    "#     soup = BeautifulSoup(response.text)\n",
    "#     urls = [a.attrs['href']for a in soup.select('a.more-link')]\n",
    "#     return urls"
   ]
  },
  {
   "cell_type": "code",
   "execution_count": 14,
   "id": "a18aa277",
   "metadata": {},
   "outputs": [],
   "source": [
    "# def \n",
    "# 'title': soup.select_one('h1.entry-title').text,\n",
    "# 'published': soup.select_one('.published').text,\n",
    "# 'content': soup.select_one('.entry-content').text.strip()\n"
   ]
  },
  {
   "cell_type": "code",
   "execution_count": 15,
   "id": "4d6c8883",
   "metadata": {},
   "outputs": [],
   "source": [
    "# # this can also work\n",
    "# def parse_blog_article(soup):\n",
    "#     return {\n",
    "#         'title': soup.select_one('h1.entry-title').text,\n",
    "#         'published': soup.select_one('.published').text,\n",
    "#         'content': soup.select_one('.entry-content').text.strip(),\n",
    "#     }"
   ]
  },
  {
   "cell_type": "code",
   "execution_count": 16,
   "id": "e0d0ef65",
   "metadata": {},
   "outputs": [],
   "source": [
    "# url = 'https://codeup.com/workshops/in-person-workshop-learn-to-code-python-on-7-19/'\n",
    "# headers = {'User-Agent': '#post-18698 > div:nth-child(1) > h1'} # Some websites don't accept the pyhon-requests default user-agent\n",
    "# response = get(url, headers=headers)\n",
    "\n",
    "# soup = BeautifulSoup(response.content, 'html.parser')"
   ]
  },
  {
   "cell_type": "markdown",
   "id": "3b0397a5",
   "metadata": {},
   "source": [
    "\n",
    "2. News Articles\n",
    "\n",
    "We will now be scraping text data from inshorts, a website that provides a brief overview of many different topics.\n",
    "\n",
    "    Write a function that scrapes the news articles for the following topics:\n",
    "    # this is for all the categories\n",
    "    Business\n",
    "    Sports\n",
    "    Technology\n",
    "    Entertainment\n",
    "The end product of this should be a function named get_news_articles that returns a list of dictionaries, where each dictionary has this shape:\n",
    "\n"
   ]
  },
  {
   "cell_type": "code",
   "execution_count": 17,
   "id": "1f150a9c",
   "metadata": {},
   "outputs": [],
   "source": [
    "url = 'https://inshorts.com/en/read/business'\n",
    "# headers = {'User-Agent': 'Codeup Data Science'} # Some websites don't accept the pyhon-requests default user-agent\n",
    "response = requests.get(url)\n",
    "soup = BeautifulSoup(response.content,\"html.parser\")"
   ]
  },
  {
   "cell_type": "code",
   "execution_count": 18,
   "id": "82362c7b",
   "metadata": {
    "scrolled": true
   },
   "outputs": [
    {
     "data": {
      "text/plain": [
       "[<span itemprop=\"headline\">Rupee hits 80 per US dollar for the first time ever</span>,\n",
       " <span itemprop=\"headline\">Rupee closes at an all-time low of 79.98 against US dollar</span>,\n",
       " <span itemprop=\"headline\">Rupee hits record low of 79.97 against US dollar</span>,\n",
       " <span itemprop=\"headline\">A fighter to the core: Mahindra praises PV Sindhu after she wins Singapore Open</span>,\n",
       " <span itemprop=\"headline\">RBI is of the view that cryptocurrencies should be prohibited: FM Sitharaman</span>,\n",
       " <span itemprop=\"headline\">Reliance Jio submits highest deposit of ₹14,000 crore for 5G spectrum auction</span>,\n",
       " <span itemprop=\"headline\">Twitter accuses Musk of 'slow-walking' trial, says 'it is harming us each day'</span>,\n",
       " <span itemprop=\"headline\">11 SEBI officials' email accounts hacked &amp; used to send 34 emails, FIR filed</span>,\n",
       " <span itemprop=\"headline\">Which household items will get costlier from tomorrow due to changes in GST rules?</span>,\n",
       " <span itemprop=\"headline\">Ex-NSE CEO Chitra's remand extended by 4 days in money laundering case</span>,\n",
       " <span itemprop=\"headline\">Saudi Arabia doubled Russian oil imports in Q2, freeing up own oil for exports: Report</span>,\n",
       " <span itemprop=\"headline\">New Zealand inflation surges to 7.3%, highest since 1990</span>,\n",
       " <span itemprop=\"headline\">Sunak praises father-in-law Narayana Murthy, says 'His firm employs thousands in UK'</span>,\n",
       " <span itemprop=\"headline\">Bill &amp; Melinda Gates Foundation's half resources have come from Warren: Bill Gates</span>,\n",
       " <span itemprop=\"headline\">Fortune cooking oil prices cut by up to ₹30 per litre by Adani Wilmar</span>,\n",
       " <span itemprop=\"headline\">Pakistani rupee falls to all-time low of 212 against US dollar</span>,\n",
       " <span itemprop=\"headline\">No GST on pre-packed, labelled food items weighing over 25 kg: Finance Ministry</span>,\n",
       " <span itemprop=\"headline\">HUL, ITC, United Spirits added 130 execs to crorepati club last fiscal: Report</span>,\n",
       " <span itemprop=\"headline\">SEBI clears appointment of BSE chief Ashish Chauhan as new NSE CEO &amp; MD</span>,\n",
       " <span itemprop=\"headline\">India's richest woman Savitri Jindal's fortune rose by $12 billion in two years: Forbes</span>,\n",
       " <span itemprop=\"headline\">Plea to stop SpiceJet's operations amid recent mishaps dismissed by Delhi HC</span>,\n",
       " <span itemprop=\"headline\">What goods &amp; services get cheaper as new GST rates come into effect today?</span>,\n",
       " <span itemprop=\"headline\">Hyd authority's one-time scheme offers 90% waiver on property tax arrears</span>,\n",
       " <span itemprop=\"headline\">Scindia chairs meet with heads of airline companies on safety issues</span>,\n",
       " <span itemprop=\"headline\">Swedish fashion retailer H&amp;M to exit Russia amid Ukraine war</span>]"
      ]
     },
     "execution_count": 18,
     "metadata": {},
     "output_type": "execute_result"
    }
   ],
   "source": [
    "soup.find_all(\"span\",itemprop = \"headline\")"
   ]
  },
  {
   "cell_type": "code",
   "execution_count": 19,
   "id": "b4629973",
   "metadata": {},
   "outputs": [
    {
     "data": {
      "text/plain": [
       "[<div itemprop=\"articleBody\">The Indian rupee touched 80 per US dollar for the first time ever on Tuesday after opening at 79.99 per dollar. The rupee declined for the eighth consecutive session after crude oil surged on concerns about tighter supplies globally. At the time of writing, rupee was trading at 80.01 per dollar, after touching a fresh record low of 80.02.</div>,\n",
       " <div itemprop=\"articleBody\">The rupee on Monday hit a fresh record low as it ended closer to the 80-mark to close at 79.98 against the US dollar. This was the seventh consecutive session when the rupee weakened. So far this year, the currency has weakened 7.05% against the US dollar. Meanwhile, BSE Sensex closed 760 points higher at 54,521 on Monday.</div>,\n",
       " <div itemprop=\"articleBody\">The rupee hit a record low of 79.97 against the US dollar on Monday after opening at 79.76. The Finance Ministry, while speaking about the matter said that global factors such as the Russia-Ukraine war, soaring crude oil prices and tightening of global financial conditions are the major reasons for the rupee's weakening.</div>,\n",
       " <div itemprop=\"articleBody\">Businessman Anand Mahindra took to Twitter to praise PV Sindhu after she won the Singapore Open. Sharing a tweet by Doordarshan Sports which had an old image of Sindhu, Mahindra wrote, \"That’s not just her facial expression, but the expression of her soul. A fighter to the core...Never getting demoralised by a slump. Teaching us how to rise again.\"</div>,\n",
       " <div itemprop=\"articleBody\">The Reserve Bank of India (RBI) has recommended to the government that it should frame regulations for cryptocurrencies and is of the view that they should be prohibited, Finance Minister Nirmala Sitharaman said. Citing the borderless nature of cryptocurrencies, she further said that any legislation for regulation or for banning can be effective only after significant international collaboration.</div>,\n",
       " <div itemprop=\"articleBody\">Reliance Jio Infocomm submitted the highest earnest money deposit of ₹14,000 crore for upcoming 5G spectrum auction, as per the Department of Telecommunications data. Bharti Airtel and Vodafone Idea have deposited ₹5,500 crore and ₹2,200 crore as earnest money, respectively. Meanwhile, Adani Data Networks, which earlier said it has no plans to enter consumer mobility segment, deposited ₹100 crore.</div>,\n",
       " <div itemprop=\"articleBody\">Twitter has accused the world's richest person Elon Musk of trying to \"slow walk\" the company's lawsuit against him for backing out of the $44-billion deal. \"Millions of Twitter shares trade daily under a cloud of Musk-created doubt...This very public dispute harms Twitter with each passing day,\" Twitter said, urging the judge to hold a trial at earliest possible date.</div>,\n",
       " <div itemprop=\"articleBody\">Mumbai police has filed an FIR after the Securities and Exchange Board of India (SEBI) approached them, alleging the email accounts of its 11 officials had been hacked and used to send as many as 34 emails by unknown persons. \"It was a small incident. CERT-IN is fully in the loop. No sensitive data was lost,\" the markets regulator said.</div>,\n",
       " <div itemprop=\"articleBody\">Pre-packaged and labelled food items like curd, lassi and buttermilk will get costlier from July 18 as they'll attract 5% GST. Jaggery, khandsari sugar, puffed rice will no longer be exempt from GST. Kitchen utensils like knives, spoons, forks, and stationery items like pencil sharpeners, maps, globes and electrical appliances such as LED lights and fixtures will also get costlier.</div>,\n",
       " <div itemprop=\"articleBody\">A Delhi court has extended the four-day remand of former CEO and MD of National Stock Exchange (NSE), Chitra Ramkrishna, in a money laundering case. The case involves alleged phone tapping and snooping of NSE's employees. Earlier, the Enforcement Directorate and CBI registered two more cases against Ramkrishna, former NSE head Ravi Narain and former Mumbai Police Commissioner Sanjay Pandey.</div>,\n",
       " <div itemprop=\"articleBody\">The world's largest oil exporter, Saudi Arabia, more than doubled its Russian oil imports in the second quarter, enabling it to free up its own crude for export, as per data accessed by Reuters. It imported 6,47,000 tonnes of Russian oil from April to June. Russia has been selling fuel at discounted prices amid Western sanctions over the Ukraine war.</div>,\n",
       " <div itemprop=\"articleBody\">Inflation in New Zealand has surged at its fastest pace in over three decades. As per official data, the Consumer Price Index increased 7.3% in the second quarter, up from 6.9% in the first quarter and the fastest since the June quarter of 1990 when prices rose 7.6%. Economists had predicted that inflation would come in at 7% or 7.1%.</div>,\n",
       " <div itemprop=\"articleBody\">One of the frontrunners for the UK PM's post, Rishi Sunak, said he is proud of what his parents-in-law built. Speaking about Infosys Founder NR Narayana Murthy, Sunak said, \"My father-in-law came from...nothing and just had a dream and a couple of hundred pounds [from my] mother-in-law's savings…He...built one of the world's largest...companies that...employs thousands of people...in the UK.\"</div>,\n",
       " <div itemprop=\"articleBody\">In a blog, Microsoft Co-founder Bill Gates said that though the foundation is named Bill &amp; Melinda Gates Foundation, \"half of its resources to date have come from Warren Buffett's gifts\". Gates wrote, \"Since 2006, Warren has gifted the foundation $35.7 billion, including his most recent gift of $3.1 billion in June.\"</div>,\n",
       " <div itemprop=\"articleBody\">Prices of one of the most popular Indian edible oil brands Fortune have been cut by up to ₹30 per litre amid a fall in global prices. This is the second oil price reduction announced by the brand's maker Adani Wilmar in two months. Prices of soyabean and sunflower oils have been cut to ₹165 and ₹195 per litre, respectively.</div>,\n",
       " <div itemprop=\"articleBody\">The Pakistani rupee has dropped to a record low against the US dollar with the exchange rate sliding to PKR 212, local media reported on Monday. This fall in the value came after traders resorted to panic buying on reports that some commercial banks had run out of foreign currency, reports stated.</div>,\n",
       " <div itemprop=\"articleBody\">The Finance Ministry has clarified that single packages of pre-packed and labelled food items like cereals and pulses weighing over 25 kg are exempt from 5% GST. It added that if a retail shopkeeper supplies an item in a loose quantity that was bought in a 25-kg pack from a manufacturer, its sale to the consumer will not attract GST.</div>,\n",
       " <div itemprop=\"articleBody\">Hindustan Unilever (HUL), ITC and United Spirits together added over 130 executives to the club of those earning more than ₹1 crore annually during the last fiscal, The Economic Times reported. United Spirits witnessed a massive jump of 113%, whereas HUL and ITC saw 33% and 44% increase in the number of eight-figure salary earners, as per their annual reports.</div>,\n",
       " <div itemprop=\"articleBody\">The Securities and Exchange Board of India has approved the appointment of Ashish Kumar Chauhan as the new MD and CEO of the NSE. Chauhan is currently the MD and CEO of the BSE and will replace Vikram Limaye whose term ended as NSE chief on July 16. The appointment is subject to Chauhan accepting the offer. </div>,\n",
       " <div itemprop=\"articleBody\">India's richest woman Savitri Jindal witnessed her fortune rise by $12 billion in the last two years, according to Forbes. Jindal's net worth stood at $4.8 billion in 2020 and it has surged to $17.7 billion this year. The 72-year-old is the head of the OP Jindal Group, founded by her late husband Om Prakash Jindal in 1952.</div>,\n",
       " <div itemprop=\"articleBody\">The Delhi High Court dismissed a plea seeking to stop the operations of SpiceJet over recent technical snags. The plea cited several incidents involving SpiceJet flights and claimed that passengers' lives are at risk due to their improper management. The DGCA has taken note of incidents involving SpiceJet flights and is free to proceed on its own, the court noted.</div>,\n",
       " <div itemprop=\"articleBody\">Electric vehicles, whether or not fitted with a battery pack, will be eligible for the concessional GST rate of 5% from July 18. GST on renting trucks, and goods carriages (where the cost of fuel is included) will be cut to 12% from 18%. GST on ostomy appliances and orthopaedic equipment like splints will be reduced from 12% to 5%.</div>,\n",
       " <div itemprop=\"articleBody\">The Telangana government has announced a one-time scheme (OTS) for clearing pending property tax arrears within Greater Hyderabad Municipal Corporation (GHMC) limits and all other urban local bodies. The scheme will allow a waiver of 90% on interest payment, provided that the principal amount plus 10% of interest on accumulated arrears is paid in one go for financial year 2021-22.</div>,\n",
       " <div itemprop=\"articleBody\">Civil Aviation Minister Jyotiraditya Scindia chaired a one-on-one meeting with heads of airline companies on Monday to review flight safety norms. The Aviation Ministry also issued instructions to each airline to take steps at all levels to enhance security surveillance. These steps come after a few Indian airlines reported back-to-back incidents of emergency landings due to technical issues.</div>,\n",
       " <div itemprop=\"articleBody\">Swedish fashion retailer H&amp;M said that it will exit from Russia after pausing sales there in March after Moscow's invasion of Ukraine. \"After careful consideration, we see it as impossible given the current situation to continue our business in Russia,\" Chief Executive Helena Helmersson said in a statement. H&amp;M said the move will cost $200 million and affect 6,000 staff. </div>]"
      ]
     },
     "execution_count": 19,
     "metadata": {},
     "output_type": "execute_result"
    }
   ],
   "source": [
    "soup.find_all(\"div\", itemprop = \"articleBody\")"
   ]
  },
  {
   "cell_type": "code",
   "execution_count": 20,
   "id": "4695818d",
   "metadata": {},
   "outputs": [
    {
     "data": {
      "text/plain": [
       "[<li class=\"active-category\">India</li>,\n",
       " <li class=\"active-category selected\">Business</li>,\n",
       " <li class=\"active-category\">Sports</li>,\n",
       " <li class=\"active-category\">World</li>,\n",
       " <li class=\"active-category\">Politics</li>,\n",
       " <li class=\"active-category\">Technology</li>,\n",
       " <li class=\"active-category\">Startup</li>,\n",
       " <li class=\"active-category\">Entertainment</li>,\n",
       " <li class=\"active-category\">Miscellaneous</li>,\n",
       " <li class=\"active-category\">Hatke</li>,\n",
       " <li class=\"active-category\">Science</li>,\n",
       " <li class=\"active-category\">Automobile</li>]"
      ]
     },
     "execution_count": 20,
     "metadata": {},
     "output_type": "execute_result"
    }
   ],
   "source": [
    "# select all news items from li possible categories\n",
    "soup.select(\"li\")[1:]"
   ]
  },
  {
   "cell_type": "code",
   "execution_count": 21,
   "id": "df6b40f0",
   "metadata": {},
   "outputs": [
    {
     "data": {
      "text/plain": [
       "['national',\n",
       " 'business',\n",
       " 'sports',\n",
       " 'world',\n",
       " 'politics',\n",
       " 'technology',\n",
       " 'startup',\n",
       " 'entertainment',\n",
       " 'miscellaneous',\n",
       " 'hatke',\n",
       " 'science',\n",
       " 'automobile']"
      ]
     },
     "execution_count": 21,
     "metadata": {},
     "output_type": "execute_result"
    }
   ],
   "source": [
    "categories = [li.text.lower() for li in soup.select(\"li\")][1:]\n",
    "categories[0] = \"national\"\n",
    "categories"
   ]
  },
  {
   "cell_type": "code",
   "execution_count": 22,
   "id": "7032da3a",
   "metadata": {},
   "outputs": [],
   "source": [
    "categories = [li.text.lower() for li in soup.select(\"li\")][1:]\n",
    "categories[0] = \"national\"\n",
    "\n",
    "inshorts = []\n",
    "\n",
    "for category in categories:\n",
    "    url = \"https://inshorts.com/en/read/\"+ category\n",
    "    response = get(url)\n",
    "    soup = BeautifulSoup(response.content, \"html.parser\")\n",
    "    titles =[span.text for span in soup.find_all(\"span\",itemprop = \"headline\")]\n",
    "    content = [div.text for div in soup.find_all(\"div\", itemprop = \"articleBody\")]   \n",
    "    \n",
    "    for i in range(len(titles)):\n",
    "             article= {\"title\" : titles[i],\n",
    "                       \"content\" :content[i],\n",
    "                       \"categoy\" : category}\n",
    "             inshorts.append(article)        "
   ]
  },
  {
   "cell_type": "code",
   "execution_count": 23,
   "id": "9ef886f1",
   "metadata": {},
   "outputs": [],
   "source": [
    "df = pd.DataFrame(inshorts)"
   ]
  },
  {
   "cell_type": "code",
   "execution_count": 24,
   "id": "db0cf946",
   "metadata": {},
   "outputs": [
    {
     "data": {
      "text/html": [
       "<div>\n",
       "<style scoped>\n",
       "    .dataframe tbody tr th:only-of-type {\n",
       "        vertical-align: middle;\n",
       "    }\n",
       "\n",
       "    .dataframe tbody tr th {\n",
       "        vertical-align: top;\n",
       "    }\n",
       "\n",
       "    .dataframe thead th {\n",
       "        text-align: right;\n",
       "    }\n",
       "</style>\n",
       "<table border=\"1\" class=\"dataframe\">\n",
       "  <thead>\n",
       "    <tr style=\"text-align: right;\">\n",
       "      <th></th>\n",
       "      <th>title</th>\n",
       "      <th>content</th>\n",
       "      <th>categoy</th>\n",
       "    </tr>\n",
       "  </thead>\n",
       "  <tbody>\n",
       "    <tr>\n",
       "      <th>0</th>\n",
       "      <td>Nude protest against caste-based discriminatio...</td>\n",
       "      <td>Members of the Satnami sect staged a nude prot...</td>\n",
       "      <td>national</td>\n",
       "    </tr>\n",
       "    <tr>\n",
       "      <th>1</th>\n",
       "      <td>Male model, friend arrested with cannabis wort...</td>\n",
       "      <td>A 25-year-old Delhi-based model named Shubham ...</td>\n",
       "      <td>national</td>\n",
       "    </tr>\n",
       "    <tr>\n",
       "      <th>2</th>\n",
       "      <td>Govt shares meme on fake post on 'liquor pipel...</td>\n",
       "      <td>Stating that a viral post claiming that people...</td>\n",
       "      <td>national</td>\n",
       "    </tr>\n",
       "    <tr>\n",
       "      <th>3</th>\n",
       "      <td>Court upholds Ansal brothers' conviction in 19...</td>\n",
       "      <td>A Delhi court upheld the conviction of Sushil ...</td>\n",
       "      <td>national</td>\n",
       "    </tr>\n",
       "    <tr>\n",
       "      <th>4</th>\n",
       "      <td>Goa reports 100% voter turnout in Presidential...</td>\n",
       "      <td>All 40 eligible members of the Goa Legislative...</td>\n",
       "      <td>national</td>\n",
       "    </tr>\n",
       "  </tbody>\n",
       "</table>\n",
       "</div>"
      ],
      "text/plain": [
       "                                               title  \\\n",
       "0  Nude protest against caste-based discriminatio...   \n",
       "1  Male model, friend arrested with cannabis wort...   \n",
       "2  Govt shares meme on fake post on 'liquor pipel...   \n",
       "3  Court upholds Ansal brothers' conviction in 19...   \n",
       "4  Goa reports 100% voter turnout in Presidential...   \n",
       "\n",
       "                                             content   categoy  \n",
       "0  Members of the Satnami sect staged a nude prot...  national  \n",
       "1  A 25-year-old Delhi-based model named Shubham ...  national  \n",
       "2  Stating that a viral post claiming that people...  national  \n",
       "3  A Delhi court upheld the conviction of Sushil ...  national  \n",
       "4  All 40 eligible members of the Goa Legislative...  national  "
      ]
     },
     "execution_count": 24,
     "metadata": {},
     "output_type": "execute_result"
    }
   ],
   "source": [
    "df.head()"
   ]
  },
  {
   "cell_type": "code",
   "execution_count": null,
   "id": "0a880155",
   "metadata": {},
   "outputs": [],
   "source": []
  },
  {
   "cell_type": "code",
   "execution_count": null,
   "id": "15ca8b61",
   "metadata": {},
   "outputs": [],
   "source": []
  }
 ],
 "metadata": {
  "hide_input": false,
  "kernelspec": {
   "display_name": "Python 3 (ipykernel)",
   "language": "python",
   "name": "python3"
  },
  "language_info": {
   "codemirror_mode": {
    "name": "ipython",
    "version": 3
   },
   "file_extension": ".py",
   "mimetype": "text/x-python",
   "name": "python",
   "nbconvert_exporter": "python",
   "pygments_lexer": "ipython3",
   "version": "3.9.7"
  }
 },
 "nbformat": 4,
 "nbformat_minor": 5
}
